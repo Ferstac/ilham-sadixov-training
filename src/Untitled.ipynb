{
 "cells": [
  {
   "cell_type": "code",
   "execution_count": 1,
   "id": "7fe8f20b-2f90-4c94-a37f-51b6702e2370",
   "metadata": {},
   "outputs": [
    {
     "ename": "SyntaxError",
     "evalue": "invalid syntax (1321592531.py, line 6)",
     "output_type": "error",
     "traceback": [
      "\u001b[0;36m  File \u001b[0;32m\"/tmp/ipykernel_24318/1321592531.py\"\u001b[0;36m, line \u001b[0;32m6\u001b[0m\n\u001b[0;31m    define('hello', [\"jupyter-js-widgets\"], function(widgets) {\u001b[0m\n\u001b[0m                                                              ^\u001b[0m\n\u001b[0;31mSyntaxError\u001b[0m\u001b[0;31m:\u001b[0m invalid syntax\n"
     ]
    }
   ],
   "source": [
    "import ipywidgets as widgets\n",
    "\n",
    "%%javascript\n",
    "require.undef('hello');\n",
    "\n",
    "define('hello', [\"jupyter-js-widgets\"], function(widgets) {\n",
    "\n",
    "    var IlhamReactWidget = widgets.DOMWidgetView.extend({\n",
    "\n",
    "     render() {\n",
    "        return (\n",
    "            <div>\n",
    "                Hello {this.props.name}\n",
    "            </div>\n",
    "        );\n",
    "      }\n",
    "    }\n",
    "   )}\n",
    ");\n",
    "ReactDOM.render(\n",
    "  <HelloMessage name=\"Ilham\" />,\n",
    "  this.el\n",
    ");\n",
    "\n"
   ]
  }
 ],
 "metadata": {
  "kernelspec": {
   "display_name": "Python 3 (ipykernel)",
   "language": "python",
   "name": "python3"
  },
  "language_info": {
   "codemirror_mode": {
    "name": "ipython",
    "version": 3
   },
   "file_extension": ".py",
   "mimetype": "text/x-python",
   "name": "python",
   "nbconvert_exporter": "python",
   "pygments_lexer": "ipython3",
   "version": "3.9.6"
  }
 },
 "nbformat": 4,
 "nbformat_minor": 5
}
